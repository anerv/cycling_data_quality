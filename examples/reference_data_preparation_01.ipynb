{
 "cells": [
  {
   "cell_type": "markdown",
   "metadata": {},
   "source": [
    "<h1>BikeDNA</h1>\n",
    "<a href=\"https://github.com/anerv/BikeDNA\">Github</a>"
   ]
  },
  {
   "cell_type": "markdown",
   "metadata": {},
   "source": [
    "# Example reference data preprocessing: City of Copenhagen\n",
    "\n",
    "This notebook provides an example of how a spatial dataset with data on cycling infrastructure can be converted to the format required by BikeDNA. When using your own data, The preprocessing must be adapted to content and format.\n",
    "\n",
    "The data used in this notebook are from the City of Copenhagen and was downloaded from [opendata.dk](https://www.opendata.dk/city-of-copenhagen/cykeldata) under the [Open Data DK license](https://www.opendata.dk/open-data-dk/open-data-dk-licens).\n",
    "\n",
    "As stated in the data set requirements, the reference data should:\n",
    "\n",
    "- only contain **cycling infrastructure** (i.e. not also the regular street network)\n",
    "- have all geometries as **LineStrings** (not MultiLineString)\n",
    "- for each row, the geometry should be a **straight** LineString only defined by its start- and end nodes\n",
    "- have start/end nodes at **intersections**\n",
    "- be in a **CRS** recognised by GeoPandas\n",
    "- contain a column describing whether each feature is a physically **protected**/separated infrastructure or if it is **unprotected**\n",
    "- contain a column describing whether each feture is **bidirectional** or not\n",
    "- contain a column describing how features have been **digitized** ('geometry type')\n",
    "- contain a column with a unique **ID** for each feature"
   ]
  },
  {
   "cell_type": "code",
   "execution_count": null,
   "metadata": {},
   "outputs": [],
   "source": [
    "import folium\n",
    "import geopandas as gpd\n",
    "import matplotlib.pyplot as plt\n",
    "import momepy\n",
    "from shapely.ops import linemerge\n",
    "\n",
    "from src import plotting_functions as pf\n",
    "\n",
    "folium_layers = {\n",
    "    \"Google Satellite\": folium.TileLayer(\n",
    "        tiles=\"https://mt1.google.com/vt/lyrs=s&x={x}&y={y}&z={z}\",\n",
    "        attr=\"Google\",\n",
    "        name=\"Google Satellite\",\n",
    "        overlay=True,\n",
    "        control=True,\n",
    "        show=False,\n",
    "    ),\n",
    "    \"whiteback\": folium.TileLayer(\n",
    "        tiles=\"https://api.mapbox.com/styles/v1/krktalilu/ckrdjkf0r2jt217qyoai4ndws/tiles/256/{z}/{x}/{y}@2x?access_token=pk.eyJ1Ijoia3JrdGFsaWx1IiwiYSI6ImNrcmRqMXdycTB3NG8yb3BlcGpiM2JkczUifQ.gEfOn5ttzfH5BQTjqXMs3w\",\n",
    "        name=\"Background: White\",\n",
    "        attr=\"Mapbox\",\n",
    "        control=True,\n",
    "        overlay=True,\n",
    "        show=False,\n",
    "    ),\n",
    "    \"Stamen TonerLite\": folium.TileLayer(\n",
    "        tiles=\"https://stamen-tiles-{s}.a.ssl.fastly.net/toner-lite/{z}/{x}/{y}{r}.png\",\n",
    "        attr='Map tiles by <a href=\"http://stamen.com\">Stamen Design</a>, <a href=\"http://creativecommons.org/licenses/by/3.0\">CC BY 3.0</a> &mdash; Map data &copy; <a href=\"https://www.openstreetmap.org/copyright\">OpenStreetMap</a> contributors',\n",
    "        name=\"Stamen TonerLite\",\n",
    "        control=True,\n",
    "        overlay=True,\n",
    "        show=False,\n",
    "    ),\n",
    "    \"CyclOSM\": folium.TileLayer(\n",
    "        tiles=\"https://{s}.tile-cyclosm.openstreetmap.fr/cyclosm/{z}/{x}/{y}.png\",\n",
    "        attr='Map data &copy; <a href=\"https://www.openstreetmap.org/copyright\">OpenStreetMap</a> contributors',\n",
    "        name=\"CyclOSM\",\n",
    "        control=True,\n",
    "        overlay=True,\n",
    "        show=False,\n",
    "    ),\n",
    "    \"OSM\": folium.TileLayer(\n",
    "        tiles=\"openstreetmap\",\n",
    "        name=\"OpenStreetMap\",\n",
    "        attr='Map data &copy; <a href=\"https://www.openstreetmap.org/copyright\">OpenStreetMap</a> contributors',\n",
    "        control=True,\n",
    "        overlay=True,\n",
    "    ),\n",
    "}"
   ]
  },
  {
   "cell_type": "code",
   "execution_count": null,
   "metadata": {},
   "outputs": [],
   "source": [
    "kk = gpd.GeoDataFrame.from_file(\n",
    "    \"../data/ex1_cph_municipality/cykeldata_kk/cykeldata_kk.shp\"\n",
    ")\n",
    "\n",
    "kk.sample(10)"
   ]
  },
  {
   "cell_type": "markdown",
   "metadata": {},
   "source": [
    "Our dataset both contains physical infrastructure and bicycle routes etc. We are only interested in the physical infrastructure and thus need to select a subset of the data.\n",
    "\n",
    "Some of the data might be outside of the study area we are interested in, but the data processing in notebook 01 will clip all data to the desired extent."
   ]
  },
  {
   "cell_type": "code",
   "execution_count": null,
   "metadata": {},
   "outputs": [],
   "source": [
    "# Creating subset only with existing cycling infrastructure\n",
    "\n",
    "kk_selection = kk.loc[\n",
    "    (kk.kategori == \"Cykelsti\") & (kk.status == \"Eksisterende\")\n",
    "].copy()\n",
    "\n",
    "kk_selection.explore()"
   ]
  },
  {
   "cell_type": "markdown",
   "metadata": {},
   "source": [
    "For all code to run without errors, our dataset can only contain LineString geometries. Let's check what we have:"
   ]
  },
  {
   "cell_type": "code",
   "execution_count": null,
   "metadata": {},
   "outputs": [],
   "source": [
    "kk_selection.geom_type.unique()"
   ]
  },
  {
   "cell_type": "markdown",
   "metadata": {},
   "source": [
    "We both have LineStrings and MultiLineStrings here. To fix this, we first try to merge the MultiLineStrings. \n",
    "If some of the MultiLinestrings are not connected (i.e. there are gaps in the lines), the aboves step will not be able to merge them. In that case we can instead 'explode' them."
   ]
  },
  {
   "cell_type": "code",
   "execution_count": null,
   "metadata": {},
   "outputs": [],
   "source": [
    "kk_linestrings = kk_selection.copy()\n",
    "# Convert MultiLineStrings to LineString\n",
    "kk_linestrings[\"geometry\"] = kk_linestrings[\"geometry\"].apply(\n",
    "    lambda x: linemerge(x) if x.geom_type == \"MultiLineString\" else x\n",
    ")\n",
    "\n",
    "if (\n",
    "    len(kk_linestrings.geom_type.unique()) > 1\n",
    "    or kk_linestrings.geom_type.unique()[0] != \"LineString\"\n",
    "):\n",
    "\n",
    "    print(\"Exploding MultiLineStrings...\")\n",
    "    kk_linestrings = kk_selection.explode(ignore_index=True)\n",
    "\n",
    "assert len(kk_linestrings.geom_type.unique()) == 1\n",
    "assert kk_linestrings.geom_type.unique()[0] == \"LineString\"\n",
    "kk_linestrings.geom_type.unique()"
   ]
  },
  {
   "cell_type": "markdown",
   "metadata": {},
   "source": [
    "For the code to work, the data need to be in a CRS recognized by GeoPandas, and to have that CRS defined. Let's check that we have a CRS defined:"
   ]
  },
  {
   "cell_type": "code",
   "execution_count": null,
   "metadata": {},
   "outputs": [],
   "source": [
    "kk_linestrings.crs"
   ]
  },
  {
   "cell_type": "markdown",
   "metadata": {},
   "source": [
    "The analysis of data quality is based on the concept of a *network*. For the results to be accurate we need a dataset with nodes at intersections (i.e. where the lines defining the cycling infrastructure intersect).\n",
    "\n",
    "Use the folium plot below to check that you do have nodes at intersections.\n",
    "If not, this will have to be fixed - or it will be an aspect of low data quality that will become apparent in the analysis of data quality...\n",
    "\n",
    "Don't worry if there are more nodes than just those at intersections and start/end points - we will take care of that in the data loading notebook."
   ]
  },
  {
   "cell_type": "code",
   "execution_count": null,
   "metadata": {},
   "outputs": [],
   "source": [
    "G = momepy.gdf_to_nx(\n",
    "    kk_linestrings.to_crs(\"EPSG:25832\"), approach=\"primal\", directed=True\n",
    ")  # We reproject the network data to avoid warnings - final reprojection will happen later\n",
    "\n",
    "nodes, edges = momepy.nx_to_gdf(G)\n",
    "\n",
    "# Feature groups for OSM\n",
    "edges_folium = pf.make_edgefeaturegroup(\n",
    "    gdf=edges, mycolor=\"black\", myweight=2, nametag=\"edges\", show_edges=True\n",
    ")\n",
    "\n",
    "nodes_folim = pf.make_nodefeaturegroup(\n",
    "    gdf=nodes, mycolor=\"red\", mysize=2, nametag=\"nodes\", show_nodes=True\n",
    ")\n",
    "\n",
    "feature_groups = [edges_folium, nodes_folim]\n",
    "\n",
    "m = pf.make_foliumplot(\n",
    "    feature_groups=feature_groups,\n",
    "    layers_dict=folium_layers,\n",
    "    center_gdf=nodes,\n",
    "    center_crs=nodes.crs,\n",
    ")\n",
    "\n",
    "display(m)"
   ]
  },
  {
   "cell_type": "markdown",
   "metadata": {},
   "source": [
    "We don't technically need to drop any unnecessary columns, but let's avoid loading unnecessary data later on."
   ]
  },
  {
   "cell_type": "code",
   "execution_count": null,
   "metadata": {},
   "outputs": [],
   "source": [
    "kk_linestrings.columns"
   ]
  },
  {
   "cell_type": "code",
   "execution_count": null,
   "metadata": {},
   "outputs": [],
   "source": [
    "# Drop unnecessary columns\n",
    "\n",
    "kk_linestrings.drop(\n",
    "    [\"rute_nr\", \"rutenavn\", \"under_kate\", \"kommune\", \"status\"], axis=1, inplace=True\n",
    ")"
   ]
  },
  {
   "cell_type": "markdown",
   "metadata": {},
   "source": [
    "For this dataset we assume of all features to be center line mappings and bidirectional, so we can specify this in config file and do not have to add it to the data.\n",
    "\n",
    "The rest of the pre-processing, such as projecting to the chosen CRS, clipping the data to the study area etc. will happen in the [01 load data notebook](../scripts/01_load_data.ipynb)."
   ]
  },
  {
   "cell_type": "markdown",
   "metadata": {},
   "source": [
    "**Final dataset**"
   ]
  },
  {
   "cell_type": "code",
   "execution_count": null,
   "metadata": {},
   "outputs": [],
   "source": [
    "kk_linestrings.sample(10)"
   ]
  },
  {
   "cell_type": "markdown",
   "metadata": {},
   "source": [
    "*Export dataset*"
   ]
  },
  {
   "cell_type": "code",
   "execution_count": null,
   "metadata": {},
   "outputs": [],
   "source": [
    "kk.to_file(\"../data/ex1_cph_municipality/cph_cycling_infra.gpkg\", driver=\"GPKG\")"
   ]
  }
 ],
 "metadata": {
  "interpreter": {
   "hash": "c1f8aa2c3d778d7aa9dfc3a40386e394ee921296b9d64bacfb82805b60735e45"
  },
  "kernelspec": {
   "display_name": "bikedna",
   "language": "python",
   "name": "bikedna"
  },
  "language_info": {
   "codemirror_mode": {
    "name": "ipython",
    "version": 3
   },
   "file_extension": ".py",
   "mimetype": "text/x-python",
   "name": "python",
   "nbconvert_exporter": "python",
   "pygments_lexer": "ipython3",
   "version": "3.11.0"
  }
 },
 "nbformat": 4,
 "nbformat_minor": 4
}
