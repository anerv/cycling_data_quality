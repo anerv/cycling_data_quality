{
 "cells": [
  {
   "cell_type": "markdown",
   "metadata": {},
   "source": [
    "# Summary of intrinsic analysis\n",
    "\n",
    "Only run this notebook after you have successfully run the notebook for the [intrinsic analysis](./intrinsic_analysis.ipynb)."
   ]
  },
  {
   "cell_type": "code",
   "execution_count": null,
   "metadata": {},
   "outputs": [],
   "source": [
    "import geopandas as gpd\n",
    "import osmnx as ox\n",
    "import networkx as nx\n",
    "import yaml\n",
    "import matplotlib.pyplot as plt\n",
    "import contextily as cx\n",
    "import json\n",
    "import pickle\n",
    "import os.path\n",
    "from src import evaluation_functions as ef\n",
    "from src import matching_functions as mf"
   ]
  },
  {
   "cell_type": "code",
   "execution_count": null,
   "metadata": {},
   "outputs": [],
   "source": [
    "with open(r'../config.yml') as file:\n",
    "\n",
    "    parsed_yaml_file = yaml.load(file, Loader=yaml.FullLoader)\n",
    "\n",
    "    study_area = parsed_yaml_file['study_area']\n",
    "    study_area_poly_fp = parsed_yaml_file['study_area_poly']\n",
    "    study_crs = parsed_yaml_file['study_crs']\n",
    "\n",
    "    missing_tag_dict = parsed_yaml_file['missing_tag_analysis']\n",
    "\n",
    "    incompatible_tags_dict = parsed_yaml_file['incompatible_tags_analysis']\n",
    "\n",
    "    cycling_infrastructure_queries = parsed_yaml_file['cycling_infrastructure_queries']\n",
    "\n",
    "    reference_geometries = parsed_yaml_file['reference_geometries']\n",
    "    cycling_bidirectional = parsed_yaml_file['bidirectional']\n",
    "\n",
    "    feature_matching = parsed_yaml_file['feature_matching']\n",
    "    \n",
    "print('Settings loaded!')"
   ]
  },
  {
   "cell_type": "markdown",
   "metadata": {},
   "source": [
    "**Load data:**"
   ]
  },
  {
   "cell_type": "code",
   "execution_count": null,
   "metadata": {},
   "outputs": [],
   "source": [
    "# Load simplified and non-simplified graphs\n",
    "\n",
    "osm_graph = ox.load_graphml(f'../data/osm_{study_area}.graphml')\n",
    "osm_simplified_graph = ox.load_graphml(f'../data/osm_{study_area}_simple.graphml')\n",
    "\n",
    "# Convert to nodes and edges\n",
    "osm_nodes, osm_edges = ox.graph_to_gdfs(osm_graph)\n",
    "osm_simplified_nodes, osm_simplified_edges = ox.graph_to_gdfs(osm_simplified_graph)\n",
    "\n",
    "# Fix converted boolean values\n",
    "osm_simplified_edges.loc[osm_simplified_edges.cycling_bidirectional=='True','cycling_bidirectional'] = True\n",
    "osm_simplified_edges.loc[osm_simplified_edges.cycling_bidirectional=='False','cycling_bidirectional'] = False\n",
    "\n",
    "# Load simplified and non-simplified graphs\n",
    "ref_graph = ox.load_graphml(f'../data/ref_{study_area}.graphml')\n",
    "ref_simplified_graph = ox.load_graphml(f'../data/ref_{study_area}_simple.graphml')\n",
    "\n",
    "# Convert to nodes and ref_edges\n",
    "ref_nodes, ref_edges = ox.graph_to_gdfs(ref_graph)\n",
    "ref_simplified_nodes, ref_simplified_edges = ox.graph_to_gdfs(ref_simplified_graph)\n",
    "\n",
    "\n",
    "print('Data processing completed!')\n"
   ]
  },
  {
   "cell_type": "code",
   "execution_count": null,
   "metadata": {},
   "outputs": [],
   "source": [
    "# Load results\n",
    "\n"
   ]
  },
  {
   "cell_type": "code",
   "execution_count": null,
   "metadata": {},
   "outputs": [],
   "source": []
  },
  {
   "cell_type": "code",
   "execution_count": null,
   "metadata": {},
   "outputs": [],
   "source": [
    "# Export results"
   ]
  }
 ],
 "metadata": {
  "language_info": {
   "name": "python"
  },
  "orig_nbformat": 4
 },
 "nbformat": 4,
 "nbformat_minor": 2
}
