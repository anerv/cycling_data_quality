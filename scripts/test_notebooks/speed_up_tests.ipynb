{
 "cells": [
  {
   "cell_type": "code",
   "execution_count": 145,
   "metadata": {},
   "outputs": [],
   "source": [
    "import geopandas as gpd\n",
    "import pandas as pd\n",
    "import os.path\n",
    "import osmnx as ox\n",
    "import networkx as nx\n",
    "import numpy as np\n",
    "import matplotlib.pyplot as plt\n",
    "from shapely.geometry import LineString\n",
    "import itertools\n",
    "from itertools import compress"
   ]
  },
  {
   "cell_type": "code",
   "execution_count": 146,
   "metadata": {},
   "outputs": [],
   "source": [
    "# def check_intersections(edges, edge_id_col, return_edges=True):\n",
    "\n",
    "#     '''\n",
    "#     Detects topological errors in gdf with edges from OSM data.\n",
    "#     If two edges are intersecting (i.e. no node at intersection) and neither is tagged as a bridge or a tunnel,\n",
    "#     it is considered an error in the data.\n",
    "\n",
    "#     Arguments:\n",
    "#         gdf (gdf): gdf with edges to check for missing intersection nodes\n",
    "#         edge_id_col (str): name of column with unique edge_id\n",
    "#         return_edges (boolean): if True, also return the edges identified as missing a node \n",
    "\n",
    "#     Returns:\n",
    "#         intersection_issues (list): list with tuples with ids of edges missing an intersection node between them\n",
    "#         edges_inter (gdf): geodataframe with edges missing an intersection node\n",
    "#     '''\n",
    "\n",
    "#     edges_subset = edges.loc[~(edges.tunnel.isin(['yes','Yes',True,'passage','building_passage','movable']) | edges.bridge.isin(['yes','Yes',True,'passage','building_passage','movable']) )]\n",
    "\n",
    "#     overlay_edges = edges_subset.overlay(edges_subset, how='intersection', keep_geom_type=False)\n",
    "\n",
    "#     edge_id_1 = edge_id_col+'_1'\n",
    "#     edge_id_2 = edge_id_col+'_2'\n",
    "\n",
    "#     overlay_selection = overlay_edges.loc[overlay_edges[edge_id_1] != overlay_edges[edge_id_2]]\n",
    "\n",
    "#     if len(overlay_selection) > 0:\n",
    "\n",
    "#         all_intersections = list(zip(overlay_selection[edge_id_1], overlay_selection[edge_id_2]))\n",
    "#         all_intersections = [set(a) for a in all_intersections]\n",
    "        \n",
    "#         # Remove duplicaties\n",
    "#         unique_intersections = [set(item) for item in set(frozenset(item) for item in all_intersections)]\n",
    "\n",
    "#         unique_intersections = [tuple(a) for a in unique_intersections]\n",
    "\n",
    "#         # These also include edges that touch due to sharing a node\n",
    "#         # We therefore check if they actually cross\n",
    "#         intersection_issues = []\n",
    "\n",
    "#         for u in unique_intersections:\n",
    "\n",
    "#             e1 = edges.loc[edges[edge_id_col]==u[0]]\n",
    "#             e2 = edges.loc[edges[edge_id_col]==u[1]]\n",
    "\n",
    "#             if e1.crosses(e2.geometry, align=False).values[0] == True:\n",
    "#                 intersection_issues.append(u)\n",
    "\n",
    "#         if len(intersection_issues) > 0:\n",
    "\n",
    "#             if return_edges:\n",
    "\n",
    "#                 ids = list(itertools.chain(*intersection_issues))\n",
    "#                 edges_inter = edges.loc[edges[edge_id_col].isin(ids)]\n",
    "\n",
    "#                 return intersection_issues, edges_inter\n",
    "\n",
    "#             else:\n",
    "#                 return intersection_issues\n",
    "\n",
    "#         else:\n",
    "#             print('No missing intersection nodes found')\n",
    "\n",
    "\n",
    "\n",
    "# def edges_crossing(id_tuple, edge_id_col):\n",
    "\n",
    "#     '''\n",
    "#     Detect whether the geometries of two edges crosses\n",
    "\n",
    "#     Arguments:\n",
    "#         id_tuple (tuple): the ids of the edges to be checked for crossing geometries\n",
    "#         edge_id_col (str): the name of the column with unique edge id\n",
    "\n",
    "#     Returns:\n",
    "#         crossing (boolean): True if they cross, otherwise False\n",
    "\n",
    "#     '''\n",
    "\n",
    "#     e1 = edges.loc[edges[edge_id_col]==id_tuple[0]]\n",
    "#     e2 = edges.loc[edges[edge_id_col]==id_tuple[1]]\n",
    "\n",
    "#     crossing = e1.crosses(e2.geometry, align=False).values[0]\n",
    "\n",
    "#     return crossing\n",
    "    \n",
    "\n",
    "# # def check_intersections_2(edges, edge_id_col, return_edges=True):\n",
    "\n",
    "# #     '''\n",
    "# #     Detects topological errors in gdf with edges from OSM data.\n",
    "# #     If two edges are intersecting (i.e. no node at intersection) and neither is tagged as a bridge or a tunnel,\n",
    "# #     it is considered an error in the data.\n",
    "\n",
    "# #     Arguments:\n",
    "# #         gdf (gdf): gdf with edges to check for missing intersection nodes\n",
    "# #         edge_id_col (str): name of column with unique edge_id\n",
    "# #         return_edges (boolean): if True, also return the edges identified as missing a node \n",
    "\n",
    "# #     Returns:\n",
    "# #         intersection_issues (list): list with tuples with ids of edges missing an intersection node between them\n",
    "# #         edges_inter (gdf): geodataframe with edges missing an intersection node\n",
    "# #     '''\n",
    "\n",
    "# #     edges_subset = edges.loc[~(edges.tunnel.isin(['yes','Yes',True,'passage','building_passage','movable']) | edges.bridge.isin(['yes','Yes',True,'passage','building_passage','movable']) )]\n",
    "\n",
    "# #     overlay_edges = edges_subset.overlay(edges_subset, how='intersection', keep_geom_type=False)\n",
    "\n",
    "# #     edge_id_1 = edge_id_col+'_1'\n",
    "# #     edge_id_2 = edge_id_col+'_2'\n",
    "\n",
    "# #     overlay_selection = overlay_edges.loc[overlay_edges[edge_id_1] != overlay_edges[edge_id_2]]\n",
    "\n",
    "   \n",
    "# #     if len(overlay_selection) > 0:\n",
    "\n",
    "# #         all_intersections = list(zip(overlay_selection[edge_id_1], overlay_selection[edge_id_2]))\n",
    "# #         all_intersections = [set(a) for a in all_intersections]\n",
    "\n",
    "\n",
    "# #         # Remove duplicaties\n",
    "# #         unique_intersections = [set(item) for item in set(frozenset(item) for item in all_intersections)]\n",
    "\n",
    "# #         unique_intersections = [tuple(a) for a in unique_intersections]\n",
    "\n",
    "# #         # These also include edges that touch due to sharing a node\n",
    "# #         # We therefore check if they actually cross\n",
    "# #         intersection_issue_filter = [edges_crossing(u, edge_id_col) for u in unique_intersections]\n",
    "\n",
    "# #         intersection_issues = list(compress(unique_intersections, intersection_issue_filter))\n",
    "\n",
    "# #         if len(intersection_issues) > 0:\n",
    "\n",
    "# #             if return_edges:\n",
    "\n",
    "# #                 ids = list(itertools.chain(*intersection_issues))\n",
    "# #                 edges_inter = edges.loc[edges[edge_id_col].isin(ids)]\n",
    "\n",
    "# #                 return intersection_issues, edges_inter\n",
    "\n",
    "#         #     else:\n",
    "#         #         return intersection_issues\n",
    "\n",
    "#         # else:\n",
    "#         #     print('No missing intersection nodes found')\n",
    "            \n",
    "#         #     return (0,0)\n",
    "\n",
    "\n",
    "def check_crossing(row, gdf):\n",
    "\n",
    "    '''\n",
    "    Detects whether a row from a gdf with line geomtries intersects with any of the geometries in a gdf\n",
    "\n",
    "    Arguments:\n",
    "        row (row): row currently analysed\n",
    "        gdf (gdf): gdf with other edges/geometries to check for intersections iwth\n",
    "\n",
    "    Returns:\n",
    "        count (int): number of intersection issues for each row\n",
    "    '''\n",
    "\n",
    "    intersection = gdf[gdf.crosses(row.geometry)]\n",
    "\n",
    "    intersection_issues_count = len(intersection)\n",
    "\n",
    "    return intersection_issues_count\n",
    "        \n",
    "\n",
    "def find_missing_intersections(edges, edge_id_col, return_edges=True):\n",
    "\n",
    "    '''\n",
    "    Detects topological errors in gdf with edges from OSM data.\n",
    "    If two edges are intersecting (i.e. no node at intersection) and neither is tagged as a bridge or a tunnel,\n",
    "    it is considered an error in the data.\n",
    "    '''\n",
    "\n",
    "    # Don't include tunnels or bridges\n",
    "    edges_subset = edges.loc[~(edges.tunnel.isin(['yes','Yes',True,'passage','building_passage','movable']) | edges.bridge.isin(['yes','Yes',True,'passage','building_passage','movable']) )].copy()\n",
    "\n",
    "    edges_subset['intersection_issues'] = edges_subset.apply(lambda x: check_crossing(row = x, gdf=edges_subset), axis=1)\n",
    "\n",
    "    missing_nodes = list(edges_subset.loc[(edges_subset.intersection_issues.notna()) & edges_subset.intersection_issues > 0][edge_id_col].values)\n",
    "\n",
    "    edges_missing_node = edges_subset.loc[(edges_subset.intersection_issues.notna()) & edges_subset.intersection_issues > 0]\n",
    "\n",
    "    \n",
    "    if return_edges:\n",
    "        return missing_nodes, edges_missing_node\n",
    "\n",
    "    else:\n",
    "        return missing_nodes\n",
    "\n",
    "\n",
    "# Test find_missing_intersection\n",
    "l1 = LineString([[1,1],[11,11]])\n",
    "l2 = LineString([[2,1],[6,10]])\n",
    "l3 = LineString([[10,10],[10,20]])\n",
    "l4 = LineString([[11,9],[5,20]])\n",
    "l5 = LineString([[1,12],[4,12]])\n",
    "l6 = LineString([[6,20],[10,20]])\n",
    "\n",
    "lines = [l1, l2, l3,l4,l5, l6]\n",
    "d = {'id':[1,2,3,4,5,6],'bridge':['yes','no', None,'no',None,'no'],'tunnel':['no','no',None,None,None,None], 'geometry':lines }\n",
    "edges = gpd.GeoDataFrame(d)\n",
    "\n",
    "missing_nodes_edge_ids, edges_with_missing_nodes = find_missing_intersections(edges, 'id')\n",
    "\n",
    "assert len(missing_nodes_edge_ids) == 2\n",
    "assert missing_nodes_edge_ids == [3,4] or missing_nodes_edge_ids == [4,3]\n",
    "assert len(edges_with_missing_nodes) == 2\n",
    "assert edges_with_missing_nodes.id.to_list() == [3,4]\n",
    "\n",
    "# edges['intersection_issues'] = edges.apply(lambda x: check_crossing(row = x, gdf=edges), axis=1)\n",
    "\n",
    "# count_intersection_issues = len(edges.loc[(edges.intersection_issues.notna()) & edges.intersection_issues > 0])\n",
    "\n",
    "# assert count_intersection_issues == 2\n",
    "# assert edges.loc[2,'intersection_issues'] == 1\n",
    "# assert edges.loc[3,'intersection_issues'] == 2\n",
    "\n",
    "# missing_nodes, edges_with_missing_nodes = check_intersections(edges, 'id')\n",
    "\n",
    "# assert len(missing_nodes) == 1\n",
    "# assert len(missing_nodes[0]) == 2\n",
    "# assert missing_nodes[0] == (3,4) or missing_nodes[0] == (4,3)\n",
    "# assert len(edges_with_missing_nodes) == 2\n",
    "# assert edges_with_missing_nodes.id.to_list() == [3,4]\n",
    "\n",
    "# # missing_nodes, edges_with_missing_nodes = check_intersections_2(edges, 'id')\n",
    "\n",
    "# # assert len(missing_nodes) == 1\n",
    "# # assert len(missing_nodes[0]) == 2\n",
    "# # assert missing_nodes[0] == (3,4) or missing_nodes[0] == (4,3)\n",
    "# # assert len(edges_with_missing_nodes) == 2\n",
    "# # assert edges_with_missing_nodes.id.to_list() == [3,4]\n",
    "\n"
   ]
  },
  {
   "cell_type": "code",
   "execution_count": 147,
   "metadata": {},
   "outputs": [
    {
     "data": {
      "text/plain": [
       "<AxesSubplot:>"
      ]
     },
     "execution_count": 147,
     "metadata": {},
     "output_type": "execute_result"
    },
    {
     "data": {
      "image/png": "[encoded data removed]",
      "text/plain": [
       "<Figure size 432x288 with 1 Axes>"
      ]
     },
     "metadata": {
      "needs_background": "light"
     },
     "output_type": "display_data"
    }
   ],
   "source": [
    "edges.plot(column='id')"
   ]
  },
  {
   "cell_type": "code",
   "execution_count": 148,
   "metadata": {
    "tags": [
     "remove_cell"
    ]
   },
   "outputs": [
    {
     "data": {
      "text/plain": [
       "<AxesSubplot:>"
      ]
     },
     "execution_count": 148,
     "metadata": {},
     "output_type": "execute_result"
    },
    {
     "data": {
      "image/png": "[encoded data removed]",
      "text/plain": [
       "<Figure size 432x288 with 1 Axes>"
      ]
     },
     "metadata": {
      "needs_background": "light"
     },
     "output_type": "display_data"
    }
   ],
   "source": [
    "edges.plot(color='pink')"
   ]
  },
  {
   "cell_type": "code",
   "execution_count": 71,
   "metadata": {},
   "outputs": [
    {
     "name": "stdout",
     "output_type": "stream",
     "text": [
      "OSM graphs loaded successfully!\n",
      "OSM data loaded successfully!\n"
     ]
    }
   ],
   "source": [
    "%run ../settings/yaml_variables.py\n",
    "%run ../settings/plotdict.py\n",
    "%run ../settings/tiledict.py\n",
    "%run ../settings/load_osmdata.py\n",
    "%run ../settings/df_styler.py"
   ]
  },
  {
   "cell_type": "code",
   "execution_count": 117,
   "metadata": {},
   "outputs": [
    {
     "name": "stdout",
     "output_type": "stream",
     "text": [
      "1 place(s) appear to be missing an intersection node or a bridge/tunnel tag.\n"
     ]
    }
   ],
   "source": [
    "edges_subset = osm_edges.loc[~(osm_edges.tunnel.isin(['yes','Yes',True,'passage','building_passage','movable']) | osm_edges.bridge.isin(['yes','Yes',True,'passage','building_passage','movable']) )].copy()\n",
    "\n",
    "edges_subset['intersection_issues'] = edges_subset.apply(lambda x: check_intersections_new(row = x, gdf=edges_subset), axis=1)\n",
    "\n",
    "count_intersection_issues = len(edges_subset.loc[(edges_subset.intersection_issues.notna()) & edges_subset.intersection_issues > 0])/2 # The number of issues is counted twice since both intersecting osm_edges are returned\n",
    "\n",
    "print(f'{count_intersection_issues:.0f} place(s) appear to be missing an intersection node or a bridge/tunnel tag.')"
   ]
  },
  {
   "cell_type": "code",
   "execution_count": 142,
   "metadata": {},
   "outputs": [],
   "source": [
    "m, t = find_missing_intersections(osm_edges,'edge_id')\n"
   ]
  },
  {
   "cell_type": "code",
   "execution_count": 144,
   "metadata": {},
   "outputs": [
    {
     "data": {
      "text/plain": [
       "[36931, 49725]"
      ]
     },
     "execution_count": 144,
     "metadata": {},
     "output_type": "execute_result"
    }
   ],
   "source": [
    "m"
   ]
  },
  {
   "cell_type": "code",
   "execution_count": null,
   "metadata": {},
   "outputs": [],
   "source": []
  }
 ],
 "metadata": {
  "kernelspec": {
   "display_name": "Python 3.10.2 ('cdq')",
   "language": "python",
   "name": "python3"
  },
  "language_info": {
   "codemirror_mode": {
    "name": "ipython",
    "version": 3
   },
   "file_extension": ".py",
   "mimetype": "text/x-python",
   "name": "python",
   "nbconvert_exporter": "python",
   "pygments_lexer": "ipython3",
   "version": "3.10.2"
  },
  "orig_nbformat": 4,
  "vscode": {
   "interpreter": {
    "hash": "c1f8aa2c3d778d7aa9dfc3a40386e394ee921296b9d64bacfb82805b60735e45"
   }
  }
 },
 "nbformat": 4,
 "nbformat_minor": 2
}
